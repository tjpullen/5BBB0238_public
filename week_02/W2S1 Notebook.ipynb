{
 "cells": [
  {
   "cell_type": "markdown",
   "metadata": {},
   "source": [
    "# Week 2 - The Basics of Python\n",
    "\n",
    "\n",
    "Welcome to this session which is divided into two parts:\n",
    "- **Initial Exercises** - to revise the pre-session material and prepare for the...\n",
    "- **Programming Challenge** - you are challenged to write a short program\n",
    "\n",
    "Work through the Initial Exercises either individually or in pairs. Feel free to ask for help from other members of your team and at some points you are asked to discuss things as a team. Once you have completed the exercises, have a short break before moving on to the Programming Challenge. You should work as a team to tackle the challenge, but make sure everyone is contributing. Get a different person to type the code for each of the numbered steps in the Challenge to make sure everyone is involved. Once you have completed the challenge, share the completed notebook with other members of your team so everyone has a copy for future reference."
   ]
  },
  {
   "cell_type": "markdown",
   "metadata": {},
   "source": [
    "## Initial Exercises"
   ]
  },
  {
   "cell_type": "markdown",
   "metadata": {},
   "source": [
    "### 1. Understanding variables"
   ]
  },
  {
   "cell_type": "markdown",
   "metadata": {},
   "source": [
    "#### Variables are, well, variable\n",
    "As the name implies, **variables** store values which can change - in other words they are variable. In Python, you can also store **constants**, which are fixed, but we won't be covering them just now.\n",
    "In the cell below, add code to print the contents of variable **a** in the places indicated. Then run the code and look at the output."
   ]
  },
  {
   "cell_type": "code",
   "execution_count": null,
   "metadata": {},
   "outputs": [],
   "source": [
    "# store 3 in variable a\n",
    "a = 3\n",
    "\n",
    "# print variable a\n",
    "\n",
    "\n",
    "# store 4 in variable a\n",
    "a = 4\n",
    "\n",
    "# print variable a\n"
   ]
  },
  {
   "cell_type": "markdown",
   "metadata": {},
   "source": [
    "You can see that although you entered the same code twice, you got a different output because the value stored in **a** has changed. This may seem obvious, but it's worth reinforcing because if you don't grasp this it causes a lot of confusion later on!"
   ]
  },
  {
   "cell_type": "markdown",
   "metadata": {},
   "source": [
    "#### A simple counter\n",
    "It's often useful to keep track of things in programs with counters, particularly if you're doing the same operation multiple times.\n",
    "Using the comments below as a guide, write the code to create a simple counter. You can use the code `a = a + 1` to calculate the value of **a** plus 1, and store that value back in variable **a**."
   ]
  },
  {
   "cell_type": "code",
   "execution_count": null,
   "metadata": {},
   "outputs": [],
   "source": [
    "# store 1 in variable a\n",
    "\n",
    "\n",
    "# print variable a\n",
    "\n",
    "\n",
    "# increase value of a by 1\n",
    "\n",
    "\n",
    "# print variable a\n",
    "\n",
    "\n",
    "# increase value of a by 1\n",
    "\n",
    "\n",
    "# print variable a\n"
   ]
  },
  {
   "cell_type": "markdown",
   "metadata": {},
   "source": [
    "Again you can see that the same line of code `print(a)` produces a different output each time because the value of **a** changes. If you are repeating the same operation several times, it is much better to write the code once and loop over it several times, and we'll be teaching you that next week. But for now, it's just important to realise that the value stored in variables can be changed in your programs."
   ]
  },
  {
   "cell_type": "markdown",
   "metadata": {},
   "source": [
    "### 2. Variable types and inputs"
   ]
  },
  {
   "cell_type": "markdown",
   "metadata": {},
   "source": [
    "#### Checking variable types\n",
    "Can you remember the three variable types you were introduced to in the pre-session material? Add some code in the cell below to check the types of variables a, b and c."
   ]
  },
  {
   "cell_type": "code",
   "execution_count": null,
   "metadata": {},
   "outputs": [],
   "source": [
    "# define variables\n",
    "a = 6\n",
    "b = 7.2\n",
    "c = \"6\"\n",
    "\n",
    "# check variable type\n"
   ]
  },
  {
   "cell_type": "markdown",
   "metadata": {},
   "source": [
    "Write the name of the variable type next to the description below then *Run* the cell to format it."
   ]
  },
  {
   "cell_type": "markdown",
   "metadata": {},
   "source": [
    "_**Variable Types**_\n",
    "\n",
    "- Stores text: \n",
    "- Stores whole numbers: \n",
    "- Stores whole or fractional numbers: "
   ]
  },
  {
   "cell_type": "markdown",
   "metadata": {},
   "source": [
    "#### Number variables\n",
    "You might be thinking: *Why have two variable types for numbers, when you could store them all as **float**?*\n",
    "\n",
    "There is a good reason why we generally avoid using **float** variables to store integers. Computers store information as a series of 0s and 1s in binary notation, so it is easy for them to store and manipulate whole numbers. But they have to use a rather complex method to squeeze non-integers into their binary storage. It works well most of the time, but can produce the occasional surprising result.\n",
    "\n",
    "Take a look at the simple calculation below. Add the code to display variable **a** then run the code."
   ]
  },
  {
   "cell_type": "code",
   "execution_count": 1,
   "metadata": {},
   "outputs": [],
   "source": [
    "# calculations\n",
    "a = 1.2 - 1\n",
    "\n",
    "# output a\n"
   ]
  },
  {
   "cell_type": "markdown",
   "metadata": {},
   "source": [
    "Any Year 6 pupil could tell you that Python is getting its sums wrong because: \n",
    "$$1.2 - 1 = 0.2$$\n",
    "It's only very slightly wrong, but it's worth being aware that this type of *floating-point error* can occur due to the way the computer stores non-integer numbers. The simplest solution is to avoid using **float** variables where you can use **int** variables instead."
   ]
  },
  {
   "cell_type": "markdown",
   "metadata": {},
   "source": [
    "#### Converting variables\n",
    "Sometimes you need to convert a variable to a different type. In the pre-session material you were introduced to the `int()` function to convert a variable into an integer. There are also `float()` and `str()` functions for converting variables into these types.\n",
    "\n",
    "The code below will produce an error message because it attempts to perform a mathematical operation on a string variable. Use the `int()` function to convert variable __a__ into an integer, and store the converted value in variable **a**."
   ]
  },
  {
   "cell_type": "code",
   "execution_count": null,
   "metadata": {},
   "outputs": [],
   "source": [
    "# Integer stored as string\n",
    "a = \"6\"\n",
    "\n",
    "# convert a to int\n",
    "\n",
    "\n",
    "# output a divided by 2\n",
    "print(a / 2)"
   ]
  },
  {
   "cell_type": "markdown",
   "metadata": {},
   "source": [
    "#### input() function\n",
    "In the presession material, you stored inputs as variables at the start of your code. The disadvantage of this is that whenever you want to change the inputs you need to edit the code. It's generally more useful for the program to receive inputs directly from user input or by reading information from a file. The simplest way to do this is with the `input()` function which reads keyboard input.\n",
    "\n",
    "In the cell below, use the `input()` function to store user input in variable **a**. Then display the contents of variable __a__.\n",
    "\n",
    "When you run the code, type a word in the input box. That text should then be displayed again."
   ]
  },
  {
   "cell_type": "code",
   "execution_count": null,
   "metadata": {},
   "outputs": [],
   "source": [
    "# store input in variable a\n",
    "\n",
    "\n",
    "# display variable a\n"
   ]
  },
  {
   "cell_type": "markdown",
   "metadata": {},
   "source": [
    "#### Providing an input message\n",
    "If your code is asking for user input, it's helpful to make it clear what input you want. The `input()` function will display a message to users if you provide it as an argument (ie. put it between the brackets).\n",
    "\n",
    "Copy and paste your code from the cell above into the cell below. Then add a message saying \"Enter a number: \" when the user input is collected."
   ]
  },
  {
   "cell_type": "code",
   "execution_count": null,
   "metadata": {},
   "outputs": [],
   "source": []
  },
  {
   "cell_type": "markdown",
   "metadata": {},
   "source": [
    "#### More issues with variable types\n",
    "Now let's do some maths on the input collected.\n",
    "\n",
    "Enter the code to store user input in variable **a** while displaying the message \"Enter a number: \".\n",
    "\n",
    "Run the code and check whether it works. Take a look at the error message and try to work out why it doesn't work. If you're not sure, check the variable type of **a**. Once you've worked out what the problem is, try to fix it so the correct answer to the calcuation is displayed."
   ]
  },
  {
   "cell_type": "code",
   "execution_count": null,
   "metadata": {},
   "outputs": [],
   "source": [
    "# store input in variable a\n",
    "\n",
    "\n",
    "# output a plus 2\n",
    "print(a + 2)"
   ]
  },
  {
   "cell_type": "markdown",
   "metadata": {},
   "source": [
    "### 3. Naming Variables"
   ]
  },
  {
   "cell_type": "markdown",
   "metadata": {},
   "source": [
    "#### Random Variable Names\n",
    "\n",
    "You can name your variables almost anything. In the example below, I've used characters from The Lord of the Rings to name some variables."
   ]
  },
  {
   "cell_type": "code",
   "execution_count": null,
   "metadata": {},
   "outputs": [],
   "source": [
    "# user input\n",
    "Bilbo = input(\"Enter your first name: \")\n",
    "Aragorn = input(\"Enter your surname: \")\n",
    "Smaug = input(\"Enter your town of birth: \")\n",
    "\n",
    "# generate message\n",
    "Shelob = Bilbo + \" \" + Aragorn\n",
    "Treebeard = \"Welcome \" + Shelob + \" of \" + Smaug\n",
    "\n",
    "# display message\n",
    "print(Treebeard)"
   ]
  },
  {
   "cell_type": "markdown",
   "metadata": {},
   "source": [
    "That works, but is pretty confusing. Imagine in a long program with lots of variables trying to remember if surname is stored as *Aragorn* or *Shelob*. For this reason it is much better to use descriptive names for variables. \n",
    "\n",
    "Copy and paste the code above into the cell below then rename the variables using sensible names. Eg. *first_name* would be a good variable name for storing first name."
   ]
  },
  {
   "cell_type": "code",
   "execution_count": null,
   "metadata": {},
   "outputs": [],
   "source": [
    "\n",
    "\n",
    "\n"
   ]
  },
  {
   "cell_type": "markdown",
   "metadata": {},
   "source": [
    "#### Long Variable Names\n",
    "\n",
    "It is also a good idea to avoid variable names that are too long. Run the code in the cell below and work out why it's producing an error."
   ]
  },
  {
   "cell_type": "code",
   "execution_count": null,
   "metadata": {},
   "outputs": [],
   "source": [
    "# user input\n",
    "the_number_that_the_user_has_just_entered = input(\"Enter a number: \")\n",
    "\n",
    "# output\n",
    "print(the_number_the_user_has_just_entered)"
   ]
  },
  {
   "cell_type": "markdown",
   "metadata": {},
   "source": [
    "The longer a variable name is, the harder it is to type it correctly every time. When you mistype a variable name, you may get an error like this saying that variable has not been defined. Even worse, you may not get an error message at all but your program will produce unexpected results. This type of error can be hard to spot, so try to avoid making these mistakes by keeping variable names short."
   ]
  },
  {
   "cell_type": "markdown",
   "metadata": {},
   "source": [
    "#### uPpEr and LoWeR cAsE Variable Names\n",
    "\n",
    "Python is case-sensitive, meaning that variables with the same name but UPPER or lower case letters will be treated as separate variables. Look at this example:"
   ]
  },
  {
   "cell_type": "code",
   "execution_count": null,
   "metadata": {},
   "outputs": [],
   "source": [
    "# define variables\n",
    "variable = 2\n",
    "Variable = 4\n",
    "\n",
    "# output\n",
    "print(Variable)\n",
    "print(variable)"
   ]
  },
  {
   "cell_type": "markdown",
   "metadata": {},
   "source": [
    "You can see that *Variable* and *variable* are separate variables but reading through the code it's difficult to distinguish them. It's easy to make mistakes with upper and lower case letters and introduce bugs into your code. The simplest solution is to just use lowercase variable names, and this is the convention in Python."
   ]
  },
  {
   "cell_type": "markdown",
   "metadata": {},
   "source": [
    "#### Function Names and Reserved Words\n",
    "\n",
    "Bad things happend if you use the names of functions as variable names. In the following example, you will actually overwrite the `input()` function with a variable named `input`. This means if you try to run the code a second time it will fail because it no longer has an `input()` function to call. That's clearly a bit of a problem, so avoid using any existing function names as variable names in your coding.\n",
    "\n",
    "*Note:* If you have run the code below, you can get the `input()` function back again by clicking on the **Kernel** menu at the top of the page, then selecting **Restart**. This will  restart the version of Python that is running here, including any variables you have stored. It's a good way to solve problems if your code has frozen or is in an endless loop."
   ]
  },
  {
   "cell_type": "code",
   "execution_count": null,
   "metadata": {},
   "outputs": [],
   "source": [
    "# user input\n",
    "input = input(\"Enter some text: \")\n",
    "\n",
    "# output\n",
    "print(input)"
   ]
  },
  {
   "cell_type": "markdown",
   "metadata": {},
   "source": [
    "For the next problem, let's take an example. If you wanted to store a journal [Impact Factor](https://en.wikipedia.org/wiki/Impact_factor), you might think *if* would be a sensible variable name, but see what happens below. Can you work out why it is giving an error message?"
   ]
  },
  {
   "cell_type": "code",
   "execution_count": null,
   "metadata": {},
   "outputs": [],
   "source": [
    "# Store Impact Factor in a variable\n",
    "if = input(\"Enter the Impact Factor: \")\n",
    "\n",
    "# output\n",
    "print(if)"
   ]
  },
  {
   "cell_type": "markdown",
   "metadata": {},
   "source": [
    "As you should remember, `if` is used to start *if statements*. So if we try to use it as a variable name, Python assumes we're trying to start an if statement, but have got the syntax wrong. There are 30 *reserved words* in Python3 which cannot be used as variable names. You can find them with a quick web search for 'python reserved words'.\n",
    "\n",
    "One last thing to consider is it is sometimes easier to use very short variable names if they're just being used in a single chunk of code. Using single letter variable names like *a, b, i, j, x* or _y_ saves a bit of typing. That is why we use them in some of the examples here. But if you need to refer to them later in a program, it is easy to forget what is stored in variable *b* which is when descriptive variable names are better.\n",
    "\n",
    "#### Task\n",
    "Take a look at the examples above and some of the potential problems with naming variables. Discuss with your group and describe some sensible rules for naming variables in python. Type your rules after the '-' bullet points in the box below then *Run* the box to format it correctly."
   ]
  },
  {
   "cell_type": "markdown",
   "metadata": {},
   "source": [
    "**Our Team's Variable Naming Rules**\n",
    "\n",
    "- \n",
    "- \n",
    "- \n",
    "- \n",
    "- "
   ]
  },
  {
   "cell_type": "markdown",
   "metadata": {},
   "source": [
    "### 4. Loading modules"
   ]
  },
  {
   "cell_type": "markdown",
   "metadata": {},
   "source": [
    "So far, the functions you've been using like `print()` and `input()` are **built-in functions**. That means they are always available when you start up python. But there is a vast array of other python functions available. These are organised in **modules** and to use these functions, you first have to load the module using the `import` command.\n",
    "\n",
    "Let's start by trying to remember some school maths.\n",
    "\n",
    "#### Example 1: Pythagorus Theorum\n",
    "\n",
    "Imagine we wanted to calculate the length of the hypotenuse of a right-angle triangle where the other two sides are 3 cm and 4 cm long.\n",
    "\n",
    "For this task you would need to calculate both the square and square root of numbers. In python, you use `**` to raise a number to the power of another number, so $5^2$ is written as `5 ** 2`\n",
    "\n",
    "So you first calculate the sum of 3 squared and 4 squared and store it in variable **a**"
   ]
  },
  {
   "cell_type": "code",
   "execution_count": null,
   "metadata": {},
   "outputs": [],
   "source": [
    "# store the sum of 3 squared and 4 squared\n",
    "a = 3 ** 2 + 4 ** 2"
   ]
  },
  {
   "cell_type": "markdown",
   "metadata": {},
   "source": [
    "Now you need to calculate the square root of **a**. The problem is that square root isn't one of the built-in functions in python, so you need to load the `math` module, then you can use the `math.sqrt()` function to calculate the square root.\n",
    "\n",
    "*Note: for non-built-in functions you need to include the module name when you use the function.*"
   ]
  },
  {
   "cell_type": "code",
   "execution_count": null,
   "metadata": {},
   "outputs": [],
   "source": [
    "# load math module\n",
    "import math\n",
    "\n",
    "# store the sum of 3 squared and 4 squared\n",
    "a = 3 ** 2 + 4 ** 2\n",
    "\n",
    "# calculate square root of a\n",
    "math.sqrt(a)"
   ]
  },
  {
   "cell_type": "markdown",
   "metadata": {},
   "source": [
    "Run the code above and check that it produces the correct answer."
   ]
  },
  {
   "cell_type": "markdown",
   "metadata": {},
   "source": [
    "#### Example 2: Area of a circle\n",
    "\n",
    "The `math` module contains plenty of other mathematical functions and some constants like $\\pi$. If you delve back into your school maths you should also remember that the area of a circle is equal to $\\pi r^2$\n",
    "\n",
    "So to calculate the area of a circle with radius 5 cm:"
   ]
  },
  {
   "cell_type": "code",
   "execution_count": null,
   "metadata": {},
   "outputs": [],
   "source": [
    "# Load math module\n",
    "import math\n",
    "\n",
    "math.pi * 5 ** 2"
   ]
  },
  {
   "cell_type": "markdown",
   "metadata": {},
   "source": [
    "#### Task\n",
    "\n",
    "Later in this session you'll need to generate random numbers (well strictly speaking pseudorandom numbers), using functions from the **random** module.\n",
    "\n",
    "In the cell below, insert the code to load the random module then use the `random()` function to generate a random number between 0 and 1.\n",
    "\n",
    "Note: you don't need to add any arguments to the `random()` function."
   ]
  },
  {
   "cell_type": "code",
   "execution_count": null,
   "metadata": {},
   "outputs": [],
   "source": [
    "# load random module\n",
    "\n",
    "\n",
    "# generate random number\n"
   ]
  },
  {
   "cell_type": "markdown",
   "metadata": {},
   "source": [
    "You only need to load modules once in a program and it's generally easiest to do this right at the beginning. When you're using Jupyter Notebooks like this one, you only need to load modules once on the page, and they will be available for all the subsequent code blocks. However, since you won't always be writing programs in Jupyter Notebooks it's good to get in the habit of loading modules at the start of each program, even if you have already loaded them elsewhere in the Notebook."
   ]
  },
  {
   "cell_type": "markdown",
   "metadata": {},
   "source": [
    "***"
   ]
  },
  {
   "cell_type": "markdown",
   "metadata": {},
   "source": [
    "## Programming Challenge - Guess the Number"
   ]
  },
  {
   "cell_type": "markdown",
   "metadata": {},
   "source": [
    "You main task for the rest of the session will be to write a short program for a 'guess the number game'. You should work on this in the team you have been allocated to.\n",
    "\n",
    "Let's break the program down into a few steps and check it works at each stage. This generally makes it easier to spot any problems rather than attempting to write the whole program in one go. You should have covered all the requirements for this program in the pre-session material and previous tasks."
   ]
  },
  {
   "cell_type": "markdown",
   "metadata": {},
   "source": [
    "### Step 1\n",
    "\n",
    "Let's start with a program which:\n",
    "- chooses a random integer between 1 and 10\n",
    "- asks the user to guess and enter a number\n",
    "- prints a congratulations message if they guessed correctly\n",
    "- prints a bad luck message if they guess wrong\n",
    "\n",
    "You've been given some comments in the cell below to provide a structure to your program.\n",
    "\n",
    "The simplest way to generate the random number is to use the `randint()` function from the `random` module. To set the range of the random integers generated, enter the lower and upper limit as arguments separated by a comma.\n",
    "\n",
    "*Hint: As you are coding, make sure that you check bits of it work. Put in some extra code to print out the random number - this will ruin the game, but will enable you to check that it's evaulating the guess correctly. If it says you guessed wrong even when you've typed in the correct answer, check you're using the correct variable types. Once you've got it working properly remove the extra code to keep the random number secret.*\n",
    "\n",
    "Once you've got this part of the program working move onto the next step."
   ]
  },
  {
   "cell_type": "code",
   "execution_count": null,
   "metadata": {},
   "outputs": [],
   "source": [
    "# load required module(s)\n",
    "\n",
    "\n",
    "# generate random number\n",
    "\n",
    "\n",
    "# user input\n",
    "\n",
    "\n",
    "# evaulate guess and output message\n",
    "\n",
    "\n",
    "\n",
    "\n"
   ]
  },
  {
   "cell_type": "markdown",
   "metadata": {},
   "source": [
    "### Step 2\n",
    "\n",
    "Now let's make it slightly more sophisticated. This time, if you guess wrong, your program should tell you whether your guess was too low or too high. Your program will need a more complicated if statement to do this.\n",
    "\n",
    "Copy and paste your program from the previous cell into the cell below. Then modify your program to include the new feature. Once it's working, move onto the next step."
   ]
  },
  {
   "cell_type": "code",
   "execution_count": null,
   "metadata": {},
   "outputs": [],
   "source": [
    "\n",
    "\n",
    "\n",
    "\n",
    "\n",
    "\n"
   ]
  },
  {
   "cell_type": "markdown",
   "metadata": {},
   "source": [
    "### Step 3\n",
    "\n",
    "Now that your program gives the player a clue, let's give them a second chance to guess the number.\n",
    "\n",
    "After your program has told the user whether they guessed correct or not, ask the user to enter another guess, get the program to evaluate the second guess and give appropriate messages if they get it correct, too high or too low.\n",
    "\n",
    "Copy and paste your program from the previous cell into the cell below. Then modify your program to include the new feature. Once it's working, move onto the next step.\n",
    "\n",
    "As you add to the code, make sure you include comments to signpost what chunks of code do.\n",
    "\n",
    "*Hint: if the player guessed correctly the first time, you don't really want to ask them to guess again. There are various ways to achieve this, but don't worry about it for now.*"
   ]
  },
  {
   "cell_type": "code",
   "execution_count": null,
   "metadata": {},
   "outputs": [],
   "source": [
    "\n",
    "\n",
    "\n",
    "\n"
   ]
  },
  {
   "cell_type": "markdown",
   "metadata": {},
   "source": [
    "### Step 4\n",
    "\n",
    "Let's make it best out of three! Ask the player for a third guess and check whether they got the answer correct. But this time, if they still haven't guessed correctly then tell them what the random number is.\n",
    "\n",
    "Copy and paste your program from the previous cell into the cell below. Then modify your program to include the new feature. Once it's working, move onto the next step."
   ]
  },
  {
   "cell_type": "code",
   "execution_count": null,
   "metadata": {},
   "outputs": [],
   "source": [
    "\n",
    "\n",
    "\n",
    "\n"
   ]
  },
  {
   "cell_type": "markdown",
   "metadata": {},
   "source": [
    "### Step 5\n",
    "\n",
    "Now your 'Guess the Number' program is pretty much complete. Let's just add a few last refinements.\n",
    "\n",
    "- add a welcome message to introduce the game and tell the user they have three guesses.\n",
    "- tell the player whether it's their first, second or third guess when you ask them to enter a number.\n",
    "- alter the congratulations messages to tell the player that they got 3 points for guessing correctly first time, 2 points for getting on the second guess and 1 point if they were right with the third guess.\n",
    "\n",
    "Copy and paste your program from the previous cell into the cell below. Then modify your program to include the new features."
   ]
  },
  {
   "cell_type": "code",
   "execution_count": null,
   "metadata": {},
   "outputs": [],
   "source": [
    "\n",
    "\n",
    "\n",
    "\n"
   ]
  }
 ],
 "metadata": {
  "kernelspec": {
   "display_name": "Python 3",
   "language": "python",
   "name": "python3"
  },
  "language_info": {
   "codemirror_mode": {
    "name": "ipython",
    "version": 3
   },
   "file_extension": ".py",
   "mimetype": "text/x-python",
   "name": "python",
   "nbconvert_exporter": "python",
   "pygments_lexer": "ipython3",
   "version": "3.8.5"
  }
 },
 "nbformat": 4,
 "nbformat_minor": 2
}
