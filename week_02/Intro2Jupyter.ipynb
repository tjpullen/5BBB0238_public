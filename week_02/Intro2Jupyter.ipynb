{
 "cells": [
  {
   "cell_type": "markdown",
   "metadata": {},
   "source": [
    "# An Introduction to Jupyter Notebooks"
   ]
  },
  {
   "cell_type": "markdown",
   "metadata": {},
   "source": [
    "This is a Jupyter Notebook. It is a single document which combines both Python code and formatted text. Notebooks provide a convenient way to write and run code in small chunks so we'll be using them quite a lot during this module. Because they can run online, you don't need to install anything on your computer to start coding. That means you can work on these Jupyter Notebooks anywhere you have a web browser and internet access.\n",
    "\n",
    "If you're reading this, you have already managed to open this Notebook so let's take a closer look at them."
   ]
  },
  {
   "cell_type": "markdown",
   "metadata": {},
   "source": [
    "## Structure\n",
    "\n",
    "Jupyter Notebooks are divided into **cells**. Each cell can either be set for **Code** (Python code) or **Markdown** (formatted text). This cell is a Markdown cell containing text. The cell below this is a Code cell containing a simple python program.\n",
    "\n",
    "Click on the cell below to select it. Then click the **Run** button in the toolbar at the top of the page."
   ]
  },
  {
   "cell_type": "code",
   "execution_count": null,
   "metadata": {
    "scrolled": true
   },
   "outputs": [],
   "source": [
    "# Hello World!\n",
    "print(\"Hello, World!\")"
   ]
  },
  {
   "cell_type": "markdown",
   "metadata": {},
   "source": [
    "Now it's your turn!\n",
    "\n",
    "Write the code to calculate $625 + 452$ in the cell below then run it.\n",
    "\n",
    "*Hint: shift-Enter is the keyboard shortcut to Run a cell*"
   ]
  },
  {
   "cell_type": "code",
   "execution_count": null,
   "metadata": {},
   "outputs": [],
   "source": [
    "# calculation\n"
   ]
  },
  {
   "cell_type": "markdown",
   "metadata": {},
   "source": [
    "# Formatting"
   ]
  },
  {
   "cell_type": "markdown",
   "metadata": {},
   "source": [
    "Markdown is a basic way of formatting text. If you double click on this cell, you can see the code for formatting text. If you *Run* this cell it will format the text again.\n",
    "\n",
    "**This is bold**\n",
    "\n",
    "*This is italic*\n",
    "\n",
    "**Headings:**\n",
    "# Heading 1\n",
    "## Heading 2\n",
    "### Heading 3\n",
    "#### Heading 4\n",
    "\n",
    "**Lists**\n",
    "\n",
    "- Bullet lists\n",
    "- are done like\n",
    "- this\n",
    "\n",
    "\n",
    "1. Numbered lists\n",
    "1. are done\n",
    "1. like this\n",
    "1. If you look carefully...\n",
    "1. you'll see the numbers are automatically generated\n",
    "1. when the cell is formatted"
   ]
  },
  {
   "cell_type": "markdown",
   "metadata": {},
   "source": [
    "#### Now it's your turn!\n",
    "\n",
    "In this cell add formatting to the following lines\n",
    "\n",
    "Format this line bold.\n",
    "\n",
    "Format this line italic.\n",
    "\n",
    "Format this line as Heading 2\n",
    "\n",
    "Convert this list into bullet points:\n",
    "apple\n",
    "orange\n",
    "banana"
   ]
  },
  {
   "cell_type": "markdown",
   "metadata": {},
   "source": [
    "# Great! Now you're ready to use Jupyter Notebooks"
   ]
  }
 ],
 "metadata": {
  "kernelspec": {
   "display_name": "Python 3",
   "language": "python",
   "name": "python3"
  },
  "language_info": {
   "codemirror_mode": {
    "name": "ipython",
    "version": 3
   },
   "file_extension": ".py",
   "mimetype": "text/x-python",
   "name": "python",
   "nbconvert_exporter": "python",
   "pygments_lexer": "ipython3",
   "version": "3.8.5"
  }
 },
 "nbformat": 4,
 "nbformat_minor": 2
}
