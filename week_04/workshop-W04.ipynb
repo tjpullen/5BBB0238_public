{
 "cells": [
  {
   "cell_type": "markdown",
   "metadata": {},
   "source": [
    "# Session 4 - Session material "
   ]
  },
  {
   "cell_type": "markdown",
   "metadata": {},
   "source": [
    "## Bacterial growth"
   ]
  },
  {
   "cell_type": "markdown",
   "metadata": {},
   "source": [
    "In this session you are going to create a simulation of bacterial colony growth. We are going to be using matplotlib to plot the number of bacteria over time, so remember to import it in all your programs. To plot the number of bacteria over time you will need two lists, one containing time points (here just an index that starts at zero and counts up in increments of one), and one containing the number of bacteria at that time point. Start off with a colony with 10 bacteria."
   ]
  },
  {
   "cell_type": "markdown",
   "metadata": {},
   "source": [
    "1. We will start off by simulating the lag phase, which in this case will last for 100 time points. During the lag phase the number of bacterial doesn't change. Plot the final result to check it is correct.\n",
    "\n",
    "Hint: <font color =\"white\">You will need to set up lists for time points and the number of bacteria, and then use a for loop to append to them.</font>"
   ]
  },
  {
   "cell_type": "code",
   "execution_count": null,
   "metadata": {},
   "outputs": [],
   "source": []
  },
  {
   "cell_type": "markdown",
   "metadata": {},
   "source": [
    "2. Now we will simulate the growth phase. This is controlled by the growth rate, $\\mu$. At each timestep the number of bacteria ($N$) will increase by $\\delta_N$ where:\n",
    "$$\\delta_N = \\mu N$$\n",
    "So if we have a $\\mu$ value of 1, then the number of bacteria will double at each timestep. \n",
    "Plot the number of bacteria for the next 100 timepoints (in addition to the 100 in the lag phase) and observe how changing $\\mu$ changes the final number of bacteria.\n",
    "\n",
    "Hint: <font color=\"white\">Inside the for loop, use an if statement to separate what happens in the lag phase and the growth phase.</font>"
   ]
  },
  {
   "cell_type": "code",
   "execution_count": null,
   "metadata": {},
   "outputs": [],
   "source": []
  },
  {
   "cell_type": "markdown",
   "metadata": {},
   "source": [
    "3. During this growth phase, bacteria show exponential growth. Plot your data using a log axis in the y direction to verify this (exponential curves appear as a straight line on a log plot)\n",
    "\n",
    "Hint: <font color=\"white\">the plot function is semilogy</font>"
   ]
  },
  {
   "cell_type": "code",
   "execution_count": null,
   "metadata": {},
   "outputs": [],
   "source": []
  },
  {
   "cell_type": "markdown",
   "metadata": {},
   "source": [
    "4. Variable growth rate. As bacteria grow they produce waste products and toxins, which slow down the growth of the colony. In the model that we're going to use, amount of waste product produced in the timestep is given by:\n",
    "$$\n",
    "\\delta_w = \\alpha N^m\n",
    "$$\n",
    "Where $\\alpha$ and $m$ are constants\n",
    "The change in growth rate at each step is given by \n",
    "$$\\delta_\\mu = -\\delta_w \\delta N$$\n",
    "(so note that $\\delta_\\mu$ is negative)\n",
    "Change your program so that mu varies in this way. Note that $\\mu$ should not go below zero (this equation just decribes the growth, we will need to describe death separately). Find parameters for which the colony size has become stabilised after 200 timesteps (including the initial lag phase).\n",
    "\n",
    "Hint1: <font color=\"white\">You can raise number $a$ to the power $b$ using pow(a,b) or ** </font>\n",
    "\n",
    "Hint2: <font color=\"white\">Use an if statement to set $\\mu$ to zero if it has become negative</font>\n",
    "\n",
    "Hint3: <font color=\"white\">suggested values: $\\mu = 0.2$, $\\alpha=0.01$, $m=0.01$</font>"
   ]
  },
  {
   "cell_type": "code",
   "execution_count": null,
   "metadata": {},
   "outputs": [],
   "source": []
  },
  {
   "cell_type": "markdown",
   "metadata": {},
   "source": [
    "5. Calculate the total amount of waste products produced by the colony and plot it on a graph instead of the number of bacteria.\n",
    "\n",
    "Hint 1:<font color=\"white\"> $\\delta_w$ is how much you add to $w$ each iteration </font>\n",
    "\n",
    "Hint 2: <font color=\"white\">You want to plot $w$</font>"
   ]
  },
  {
   "cell_type": "code",
   "execution_count": null,
   "metadata": {},
   "outputs": [],
   "source": []
  },
  {
   "cell_type": "markdown",
   "metadata": {},
   "source": [
    "\n",
    "6. When the amount of waste exceeds a threshold, cells start to die. After this, the change in size of the colony for one timestep is given by:\n",
    "\n",
    "$$\\delta_N = \\mu N- \\beta N $$\n",
    "\n",
    "Hint 1: <font color=\"white\">use if to check the value of $w$ inside your loop and decide whether to use the growth or death equation</font>\n",
    "\n",
    "Hint 2: <font color=\"white\">if you have problems finding the right parameter range, try printing out the waste product total value to see what threshold level might be appropriate given your other values.</font>"
   ]
  },
  {
   "cell_type": "code",
   "execution_count": null,
   "metadata": {},
   "outputs": [],
   "source": []
  },
  {
   "cell_type": "markdown",
   "metadata": {},
   "source": [
    "Remember to fix it so that $N$ cannot be a fraction of a cell. This will be a problem if $N$ is small because the nonsense range of 0.001 to 0.1 cells will take up as much of the $y$ axis as the rage 10 to 1000 cells.\n",
    "\n",
    "Hint: put in a test for $N < 1$\n",
    "\n",
    "Play around with the different parameters to understand the influence of different factors on the model."
   ]
  },
  {
   "cell_type": "code",
   "execution_count": null,
   "metadata": {},
   "outputs": [],
   "source": []
  }
 ],
 "metadata": {
  "kernelspec": {
   "display_name": "Python 3",
   "language": "python",
   "name": "python3"
  },
  "language_info": {
   "codemirror_mode": {
    "name": "ipython",
    "version": 3
   },
   "file_extension": ".py",
   "mimetype": "text/x-python",
   "name": "python",
   "nbconvert_exporter": "python",
   "pygments_lexer": "ipython3",
   "version": "3.8.5"
  }
 },
 "nbformat": 4,
 "nbformat_minor": 4
}
